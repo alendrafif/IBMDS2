<center>
    <img src="https://cf-courses-data.s3.us.cloud-object-storage.appdomain.cloud/IBMDeveloperSkillsNetwork-DS0105EN-SkillsNetwork/labs/Module2/images/SN_web_lightmode.png" width="300" alt="cognitiveclass.ai logo">
</center>

#### Add your code below following the instructions given in the course

## Exercise 2: Create markdown cell with title of the notebook
# Data Science Tools and Ecosystem
## Exercise 3 - Create a markdown cell for an introduction
Hi! Im a junior year college student trying to build a skill in the data science field. Since this is a peer-graded assignment, I'm quite sure that you are trying to do the same. I hope that your journey goes well and have a great journey!

In this notebook, Data Science Tools and Ecosystem are summarized.
## Exercise 4 - Create a markdown cell to list data science languages
In this course, I have learned that there are some languages that is commonly used in the data science field. Those languages are:
1. Python
2. R
3. SQL
4. Scala
5. Java
6. C++
7. Julia
## Exercise 5 - Create a markdown cell to list data science libraries
Aside from languages, I was also introduced to some of the libraries that are used in Data Science. The libraries (Python) that are mentioned in this course are:
1. Pandas
2. NumPy
3. SciPy
4. matplotlib
5. Scikit-learn
6. Tensorflow
7. Pytorch
## Exercise 6 - Create a markdown cell with a table of Data Science tools
| Data Science Tools       |
|--------------------------|
| Jupyter Notebook         |
| RStudio                  |
| VS Code                  |
## Exercise 7 - Create a markdown cell introducing arithmetic expression examples
### In this course, I also learned that you can put **arithmetic expressions** in notebooks. Below are the examples:
#This a simple arithmetic expression to mutiply then add integers
(3*4)+5


# This will convert 200 minutes to hours by diving by 60
minutes = 200
hours = minutes/60

print(f"{minutes} minutes is {hours} hours ")
**Objectives** :
- List Commonly used data science languages
- List Commonly used data science libraries
- List Commonly used data science tools
- give an example of arithmetic expressions in notebooks

## Author
Alendra Rafif
